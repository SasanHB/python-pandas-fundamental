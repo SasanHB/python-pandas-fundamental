{
 "cells": [
  {
   "attachments": {},
   "cell_type": "markdown",
   "metadata": {},
   "source": [
    "## Loading data in Pandas"
   ]
  },
  {
   "cell_type": "code",
   "execution_count": null,
   "metadata": {},
   "outputs": [],
   "source": [
    "import pandas as pd\n",
    "\n",
    "## Read CSV File ##\n",
    "df = pd.read_csv('pokemon_data.csv')\n",
    "\n",
    "## Read Excel File ##\n",
    "# df_xlsx = pd.read_excel('pokemon_data.xlsx')\n",
    "\n",
    "## Read TXT Files ##\n",
    "# df_txt = pd.read_csv('pokemon_data.txt', delimiter='\\t')\n",
    "\n",
    "## Read Top 5 Rows ##\n",
    "# print(df.head(5))\n",
    "\n",
    "## Read Last 5 Rows ##\n",
    "# print(df.tail(5))\n",
    "\n",
    "print(df)"
   ]
  },
  {
   "attachments": {},
   "cell_type": "markdown",
   "metadata": {},
   "source": [
    "## Reading Data in Pandas"
   ]
  },
  {
   "cell_type": "code",
   "execution_count": null,
   "metadata": {},
   "outputs": [],
   "source": [
    "## Read Headers\n",
    "df.columns\n",
    "\n",
    "## Read Each Column ##\n",
    "# print(df['Name'])\n",
    "# print(df['Name'][0:5])\n",
    "# print(df[['Name', 'Type 1', 'HP']])\n",
    "\n",
    "## Read Each Row ##\n",
    "# print(df.iloc[1])\n",
    "# print(df.iloc[1:4])\n",
    "\n",
    "# for index, row in df.iterrows():\n",
    "#     print(index, row['Name'])\n",
    "\n",
    "df.loc[df['Type 1'] == 'Fire']\n",
    "\n",
    "## Read a specific location (R,C) ##\n",
    "# print(df.iloc[2,1])"
   ]
  },
  {
   "cell_type": "code",
   "execution_count": null,
   "metadata": {},
   "outputs": [],
   "source": []
  }
 ],
 "metadata": {
  "kernelspec": {
   "display_name": "venv",
   "language": "python",
   "name": "python3"
  },
  "language_info": {
   "codemirror_mode": {
    "name": "ipython",
    "version": 3
   },
   "file_extension": ".py",
   "mimetype": "text/x-python",
   "name": "python",
   "nbconvert_exporter": "python",
   "pygments_lexer": "ipython3",
   "version": "3.10.10"
  },
  "orig_nbformat": 4,
  "vscode": {
   "interpreter": {
    "hash": "81fedfb590a3d44c33e851ac9a7f606bf5f1b11e50a44178fbe01286520637d0"
   }
  }
 },
 "nbformat": 4,
 "nbformat_minor": 2
}
